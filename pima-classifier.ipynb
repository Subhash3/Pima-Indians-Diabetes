{
 "cells": [
  {
   "cell_type": "code",
   "execution_count": null,
   "metadata": {},
   "outputs": [],
   "source": [
    "!python3 -m pip install nicenet"
   ]
  },
  {
   "cell_type": "code",
   "execution_count": 34,
   "metadata": {},
   "outputs": [],
   "source": [
    "from nicenet import NeuralNetwork\n",
    "from nicenet import Dataset\n",
    "import numpy as np\n",
    "import random"
   ]
  },
  {
   "cell_type": "code",
   "execution_count": 32,
   "metadata": {},
   "outputs": [],
   "source": [
    "def shuffleArray(array: list):\n",
    "    arrayCopy = array.copy()\n",
    "    random.shuffle(arrayCopy)\n",
    "\n",
    "    return arrayCopy\n",
    "\n",
    "\n",
    "def splitArr(array: list, ratio: float):\n",
    "    n = len(array)\n",
    "\n",
    "    m = int(n * ratio)\n",
    "\n",
    "    firstPart: list = array[0: m]\n",
    "    secondPart: list = array[m: n]\n",
    "\n",
    "    return [firstPart, secondPart]\n",
    "\n",
    "\n",
    "def one_hot_encode(num, size) :\n",
    "    vector = np.array([0]*size)\n",
    "    vector[num-1] = 1\n",
    "\n",
    "    return vector.reshape(size, 1)\n",
    "\n",
    "def parse_dataset(data, inputs, outputs) :\n",
    "    dataset = list()\n",
    "    for line in data :\n",
    "        row = list(map(float, line.split(',')))\n",
    "        target = int(row[-1])\n",
    "        features = row[:-1]\n",
    "        features = np.reshape(features, (inputs, 1))\n",
    "        targets = one_hot_encode(target + 1, outputs)\n",
    "        dataset.append([features, targets])\n",
    "    return dataset\n",
    "        "
   ]
  },
  {
   "cell_type": "code",
   "execution_count": 28,
   "metadata": {},
   "outputs": [],
   "source": [
    "inputs = 8\n",
    "outputs = 2"
   ]
  },
  {
   "cell_type": "code",
   "execution_count": 30,
   "metadata": {},
   "outputs": [
    {
     "name": "stdout",
     "output_type": "stream",
     "text": [
      "768\n"
     ]
    }
   ],
   "source": [
    "dataset_file = './dataset/diabetes.csv'\n",
    "\n",
    "with open(dataset_file) as fp :\n",
    "    data = fp.readlines()\n",
    "dataset = parse_dataset(data, inputs, outputs)\n",
    "print(len(dataset))"
   ]
  },
  {
   "cell_type": "code",
   "execution_count": 71,
   "metadata": {},
   "outputs": [
    {
     "name": "stdout",
     "output_type": "stream",
     "text": [
      "640 128\n"
     ]
    }
   ],
   "source": [
    "training, testing = splitArr(dataset, 5/6)\n",
    "training = shuffleArray(training)\n",
    "testing = shuffleArray(testing)\n",
    "\n",
    "print(*map(len, [training, testing]))\n",
    "# print(training[0])"
   ]
  },
  {
   "cell_type": "code",
   "execution_count": null,
   "metadata": {},
   "outputs": [],
   "source": [
    "datasetHandler = Dataset(inputs, outputs)\n",
    "datasetHandler.scaleData(dataset, len(dataset))"
   ]
  },
  {
   "cell_type": "code",
   "execution_count": 138,
   "metadata": {},
   "outputs": [],
   "source": [
    "network = NeuralNetwork(inputs, outputs, cost=\"ce\")\n",
    "network.addLayer(8, activation_function=\"tanh\")\n",
    "network.compile(activation_function=\"softmax\")"
   ]
  },
  {
   "cell_type": "code",
   "execution_count": null,
   "metadata": {},
   "outputs": [
    {
     "name": "stdout",
     "output_type": "stream",
     "text": [
      "     Epoch(ce) Error(%) Accuracy\n",
      "Estimated Training Time: 0.0hrs 0.0min 7.402372360229492sec\n"
     ]
    }
   ],
   "source": [
    "network.Train(training, len(training), epochs=100, epoch_logging=False)\n",
    "network.evaluate()"
   ]
  },
  {
   "cell_type": "code",
   "execution_count": 136,
   "metadata": {},
   "outputs": [
    {
     "data": {
      "image/png": "[encoded data removed]",
      "text/plain": [
       "<Figure size 432x288 with 1 Axes>"
      ]
     },
     "metadata": {
      "needs_background": "light"
     },
     "output_type": "display_data"
    },
    {
     "name": "stdout",
     "output_type": "stream",
     "text": [
      "[*] Model exported successfully to pima_diabetes_model_78.91.json\n"
     ]
    }
   ],
   "source": [
    "network.epoch_vs_error()\n",
    "file_to_export = f\"pima_diabetes_model_{round(network.accuracy, 2)}.json\"\n",
    "network.export_model(file_to_export)"
   ]
  },
  {
   "cell_type": "code",
   "execution_count": null,
   "metadata": {},
   "outputs": [],
   "source": [
    "correct = 0\n",
    "total = 0\n",
    "\n",
    "for sample in testing :\n",
    "    prediction = network.predict(sample[0])\n",
    "    p = np.argmax(prediction)\n",
    "    a = np.argmax(sample[1])\n",
    "    if p == a :\n",
    "        correct += 1\n",
    "    total += 1\n",
    "print(correct*100/total)"
   ]
  }
 ],
 "metadata": {
  "kernelspec": {
   "display_name": "Python 3.6.9 64-bit",
   "language": "python",
   "name": "python36964bita3994e3963db43959c22dccb417b32b4"
  },
  "language_info": {
   "codemirror_mode": {
    "name": "ipython",
    "version": 3
   },
   "file_extension": ".py",
   "mimetype": "text/x-python",
   "name": "python",
   "nbconvert_exporter": "python",
   "pygments_lexer": "ipython3",
   "version": "3.6.9"
  }
 },
 "nbformat": 4,
 "nbformat_minor": 4
}
